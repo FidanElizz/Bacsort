{
  "cells": [
    {
      "cell_type": "markdown",
      "metadata": {
        "id": "view-in-github",
        "colab_type": "text"
      },
      "source": [
        "<a href=\"https://colab.research.google.com/github/FidanElizz/Bacsort/blob/master/AML_Fidan_Gurbanova.ipynb\" target=\"_parent\"><img src=\"https://colab.research.google.com/assets/colab-badge.svg\" alt=\"Open In Colab\"/></a>"
      ]
    },
    {
      "cell_type": "markdown",
      "metadata": {
        "id": "13uf0hjtGhy7"
      },
      "source": [
        "   # Machine Learning (Basic), Fidan Gurbanova, Bioinformatics Master's course, University of Bologna"
      ]
    },
    {
      "cell_type": "markdown",
      "metadata": {
        "id": "DFYoTFpoGhzA"
      },
      "source": [
        "                 # Description of the American Sign-Language MNIST Problem \n",
        "\n",
        "American Sign Language (ASL) is a complete, natural language that has the same linguistic properties as spoken languages, with grammar that differs from English. ASL is expressed by movements of the hands and face. It is the primary language of many North Americans who are deaf and hard of hearing, and is used by many hearing people as well. The dataset format is patterned to match closely with the classic MNIST. Each training and test case represents a label (0-25) as a one-to-one map for each alphabetic letter A-Z (and no cases for 9=J or 25=Z because of gesture motions). The training data (27,455 cases) and test data (7172 cases) are approximately half the size of the standard MNIST but otherwise similar with a header row of label, pixel1,pixel2….pixel784 which represent a single 28x28 pixel image with grayscale values between 0-255. ![Screenshot%202022-01-13%20at%2017.35.50.png](attachment:Screenshot%202022-01-13%20at%2017.35.50.png)"
      ]
    },
    {
      "cell_type": "markdown",
      "metadata": {
        "id": "mc9l-KF4GhzC"
      },
      "source": [
        ""
      ]
    },
    {
      "cell_type": "markdown",
      "metadata": {
        "id": "lxkmjz7gGhzD"
      },
      "source": [
        "# SUPPORT VECTOR MACHINE vs K-NEAREST-NEIGHBOUR\n",
        "\n",
        "\n",
        "In this notebook, my goal is to compare three different algorithms, which are (Support Vector Machine)SVM one vs rest algorithm, (K-Nearest_Neighbour)KNN and (Convolutional Neural networks)CNN. These types of projects, the ones are related to image recognition, usually can easily be solved with deep learning algorithms such as convolutional neural networks, but I wanted to use these two algorithms besides CNN, because they can be also be efficient sometimes in these problems and require less computations, as you would not expect from CNN or neural networks in general. The dataset has 27455 training samples with pixel intensity of 28 x 28 handsign images for 24 different classes (different handsign per class) and 7172 testing samples."
      ]
    },
    {
      "cell_type": "markdown",
      "metadata": {
        "id": "_bpnY-IxGhzD"
      },
      "source": [
        "        # Loading Dataset and libraries"
      ]
    },
    {
      "cell_type": "code",
      "execution_count": null,
      "metadata": {
        "id": "YvBBp2HcGhzE"
      },
      "outputs": [],
      "source": [
        "# Python 3 environment comes with many helpful analytics libraries installed within\n",
        "\n",
        "import numpy as np\n",
        "import pandas as pd"
      ]
    },
    {
      "cell_type": "code",
      "execution_count": null,
      "metadata": {
        "id": "sCkKLbxcGhzF",
        "outputId": "56552814-eb9f-4337-e72e-f92ea8bb8233"
      },
      "outputs": [
        {
          "name": "stdout",
          "output_type": "stream",
          "text": [
            "/Users/fidanqurbanova/Downloads/archive/AML_Fidan_Gurbanova.html\n",
            "/Users/fidanqurbanova/Downloads/archive/AML_Fidan_Gurbanova.ipynb\n",
            "/Users/fidanqurbanova/Downloads/archive/american_sign_language.PNG\n",
            "/Users/fidanqurbanova/Downloads/archive/sign_mnist_test.csv\n",
            "/Users/fidanqurbanova/Downloads/archive/AML_basic_FG.ipynb\n",
            "/Users/fidanqurbanova/Downloads/archive/archive.zip\n",
            "/Users/fidanqurbanova/Downloads/archive/sign_mnist_train.csv\n",
            "/Users/fidanqurbanova/Downloads/archive/amer_sign3.png\n",
            "/Users/fidanqurbanova/Downloads/archive/amer_sign2.png\n",
            "/Users/fidanqurbanova/Downloads/archive/sign_mnist_train/sign_mnist_train.csv\n",
            "/Users/fidanqurbanova/Downloads/archive/.ipynb_checkpoints/AML_Fidan_Gurbanova-checkpoint.ipynb\n",
            "/Users/fidanqurbanova/Downloads/archive/.ipynb_checkpoints/AML_basic_FG-checkpoint.ipynb\n",
            "/Users/fidanqurbanova/Downloads/archive/sign_mnist_test/sign_mnist_test.csv\n"
          ]
        }
      ],
      "source": [
        "import os\n",
        "for dirname, _, filenames in os.walk('/Users/fidanqurbanova/Downloads/archive/'):\n",
        "    for filename in filenames:\n",
        "        print(os.path.join(dirname, filename))"
      ]
    },
    {
      "cell_type": "code",
      "execution_count": null,
      "metadata": {
        "id": "5JK597VRGhzG"
      },
      "outputs": [],
      "source": [
        "train = pd.read_csv(\"/Users/fidanqurbanova/Downloads/archive/sign_mnist_train.csv\")\n",
        "test  = pd.read_csv(\"/Users/fidanqurbanova/Downloads/archive/sign_mnist_test.csv\")"
      ]
    },
    {
      "cell_type": "code",
      "execution_count": null,
      "metadata": {
        "id": "Yiu12h4TGhzH",
        "outputId": "94e79d5c-91ec-486e-fc8b-5946e4598589"
      },
      "outputs": [
        {
          "data": {
            "text/html": [
              "<div>\n",
              "<style scoped>\n",
              "    .dataframe tbody tr th:only-of-type {\n",
              "        vertical-align: middle;\n",
              "    }\n",
              "\n",
              "    .dataframe tbody tr th {\n",
              "        vertical-align: top;\n",
              "    }\n",
              "\n",
              "    .dataframe thead th {\n",
              "        text-align: right;\n",
              "    }\n",
              "</style>\n",
              "<table border=\"1\" class=\"dataframe\">\n",
              "  <thead>\n",
              "    <tr style=\"text-align: right;\">\n",
              "      <th></th>\n",
              "      <th>label</th>\n",
              "      <th>pixel1</th>\n",
              "      <th>pixel2</th>\n",
              "      <th>pixel3</th>\n",
              "      <th>pixel4</th>\n",
              "      <th>pixel5</th>\n",
              "      <th>pixel6</th>\n",
              "      <th>pixel7</th>\n",
              "      <th>pixel8</th>\n",
              "      <th>pixel9</th>\n",
              "      <th>...</th>\n",
              "      <th>pixel775</th>\n",
              "      <th>pixel776</th>\n",
              "      <th>pixel777</th>\n",
              "      <th>pixel778</th>\n",
              "      <th>pixel779</th>\n",
              "      <th>pixel780</th>\n",
              "      <th>pixel781</th>\n",
              "      <th>pixel782</th>\n",
              "      <th>pixel783</th>\n",
              "      <th>pixel784</th>\n",
              "    </tr>\n",
              "  </thead>\n",
              "  <tbody>\n",
              "    <tr>\n",
              "      <th>0</th>\n",
              "      <td>6</td>\n",
              "      <td>149</td>\n",
              "      <td>149</td>\n",
              "      <td>150</td>\n",
              "      <td>150</td>\n",
              "      <td>150</td>\n",
              "      <td>151</td>\n",
              "      <td>151</td>\n",
              "      <td>150</td>\n",
              "      <td>151</td>\n",
              "      <td>...</td>\n",
              "      <td>138</td>\n",
              "      <td>148</td>\n",
              "      <td>127</td>\n",
              "      <td>89</td>\n",
              "      <td>82</td>\n",
              "      <td>96</td>\n",
              "      <td>106</td>\n",
              "      <td>112</td>\n",
              "      <td>120</td>\n",
              "      <td>107</td>\n",
              "    </tr>\n",
              "    <tr>\n",
              "      <th>1</th>\n",
              "      <td>5</td>\n",
              "      <td>126</td>\n",
              "      <td>128</td>\n",
              "      <td>131</td>\n",
              "      <td>132</td>\n",
              "      <td>133</td>\n",
              "      <td>134</td>\n",
              "      <td>135</td>\n",
              "      <td>135</td>\n",
              "      <td>136</td>\n",
              "      <td>...</td>\n",
              "      <td>47</td>\n",
              "      <td>104</td>\n",
              "      <td>194</td>\n",
              "      <td>183</td>\n",
              "      <td>186</td>\n",
              "      <td>184</td>\n",
              "      <td>184</td>\n",
              "      <td>184</td>\n",
              "      <td>182</td>\n",
              "      <td>180</td>\n",
              "    </tr>\n",
              "    <tr>\n",
              "      <th>2</th>\n",
              "      <td>10</td>\n",
              "      <td>85</td>\n",
              "      <td>88</td>\n",
              "      <td>92</td>\n",
              "      <td>96</td>\n",
              "      <td>105</td>\n",
              "      <td>123</td>\n",
              "      <td>135</td>\n",
              "      <td>143</td>\n",
              "      <td>147</td>\n",
              "      <td>...</td>\n",
              "      <td>68</td>\n",
              "      <td>166</td>\n",
              "      <td>242</td>\n",
              "      <td>227</td>\n",
              "      <td>230</td>\n",
              "      <td>227</td>\n",
              "      <td>226</td>\n",
              "      <td>225</td>\n",
              "      <td>224</td>\n",
              "      <td>222</td>\n",
              "    </tr>\n",
              "    <tr>\n",
              "      <th>3</th>\n",
              "      <td>0</td>\n",
              "      <td>203</td>\n",
              "      <td>205</td>\n",
              "      <td>207</td>\n",
              "      <td>206</td>\n",
              "      <td>207</td>\n",
              "      <td>209</td>\n",
              "      <td>210</td>\n",
              "      <td>209</td>\n",
              "      <td>210</td>\n",
              "      <td>...</td>\n",
              "      <td>154</td>\n",
              "      <td>248</td>\n",
              "      <td>247</td>\n",
              "      <td>248</td>\n",
              "      <td>253</td>\n",
              "      <td>236</td>\n",
              "      <td>230</td>\n",
              "      <td>240</td>\n",
              "      <td>253</td>\n",
              "      <td>255</td>\n",
              "    </tr>\n",
              "    <tr>\n",
              "      <th>4</th>\n",
              "      <td>3</td>\n",
              "      <td>188</td>\n",
              "      <td>191</td>\n",
              "      <td>193</td>\n",
              "      <td>195</td>\n",
              "      <td>199</td>\n",
              "      <td>201</td>\n",
              "      <td>202</td>\n",
              "      <td>203</td>\n",
              "      <td>203</td>\n",
              "      <td>...</td>\n",
              "      <td>26</td>\n",
              "      <td>40</td>\n",
              "      <td>64</td>\n",
              "      <td>48</td>\n",
              "      <td>29</td>\n",
              "      <td>46</td>\n",
              "      <td>49</td>\n",
              "      <td>46</td>\n",
              "      <td>46</td>\n",
              "      <td>53</td>\n",
              "    </tr>\n",
              "    <tr>\n",
              "      <th>5</th>\n",
              "      <td>21</td>\n",
              "      <td>72</td>\n",
              "      <td>79</td>\n",
              "      <td>87</td>\n",
              "      <td>101</td>\n",
              "      <td>115</td>\n",
              "      <td>124</td>\n",
              "      <td>131</td>\n",
              "      <td>135</td>\n",
              "      <td>139</td>\n",
              "      <td>...</td>\n",
              "      <td>187</td>\n",
              "      <td>189</td>\n",
              "      <td>192</td>\n",
              "      <td>193</td>\n",
              "      <td>194</td>\n",
              "      <td>194</td>\n",
              "      <td>194</td>\n",
              "      <td>195</td>\n",
              "      <td>195</td>\n",
              "      <td>194</td>\n",
              "    </tr>\n",
              "    <tr>\n",
              "      <th>6</th>\n",
              "      <td>10</td>\n",
              "      <td>93</td>\n",
              "      <td>100</td>\n",
              "      <td>112</td>\n",
              "      <td>118</td>\n",
              "      <td>123</td>\n",
              "      <td>127</td>\n",
              "      <td>131</td>\n",
              "      <td>133</td>\n",
              "      <td>136</td>\n",
              "      <td>...</td>\n",
              "      <td>173</td>\n",
              "      <td>175</td>\n",
              "      <td>177</td>\n",
              "      <td>178</td>\n",
              "      <td>180</td>\n",
              "      <td>180</td>\n",
              "      <td>181</td>\n",
              "      <td>181</td>\n",
              "      <td>181</td>\n",
              "      <td>183</td>\n",
              "    </tr>\n",
              "    <tr>\n",
              "      <th>7</th>\n",
              "      <td>14</td>\n",
              "      <td>177</td>\n",
              "      <td>177</td>\n",
              "      <td>177</td>\n",
              "      <td>177</td>\n",
              "      <td>177</td>\n",
              "      <td>178</td>\n",
              "      <td>179</td>\n",
              "      <td>179</td>\n",
              "      <td>178</td>\n",
              "      <td>...</td>\n",
              "      <td>232</td>\n",
              "      <td>223</td>\n",
              "      <td>224</td>\n",
              "      <td>224</td>\n",
              "      <td>223</td>\n",
              "      <td>221</td>\n",
              "      <td>221</td>\n",
              "      <td>221</td>\n",
              "      <td>220</td>\n",
              "      <td>219</td>\n",
              "    </tr>\n",
              "    <tr>\n",
              "      <th>8</th>\n",
              "      <td>3</td>\n",
              "      <td>191</td>\n",
              "      <td>194</td>\n",
              "      <td>196</td>\n",
              "      <td>198</td>\n",
              "      <td>201</td>\n",
              "      <td>203</td>\n",
              "      <td>204</td>\n",
              "      <td>205</td>\n",
              "      <td>205</td>\n",
              "      <td>...</td>\n",
              "      <td>43</td>\n",
              "      <td>57</td>\n",
              "      <td>78</td>\n",
              "      <td>64</td>\n",
              "      <td>47</td>\n",
              "      <td>62</td>\n",
              "      <td>65</td>\n",
              "      <td>62</td>\n",
              "      <td>62</td>\n",
              "      <td>68</td>\n",
              "    </tr>\n",
              "    <tr>\n",
              "      <th>9</th>\n",
              "      <td>7</td>\n",
              "      <td>171</td>\n",
              "      <td>172</td>\n",
              "      <td>172</td>\n",
              "      <td>173</td>\n",
              "      <td>173</td>\n",
              "      <td>173</td>\n",
              "      <td>173</td>\n",
              "      <td>173</td>\n",
              "      <td>172</td>\n",
              "      <td>...</td>\n",
              "      <td>199</td>\n",
              "      <td>199</td>\n",
              "      <td>198</td>\n",
              "      <td>196</td>\n",
              "      <td>195</td>\n",
              "      <td>194</td>\n",
              "      <td>183</td>\n",
              "      <td>85</td>\n",
              "      <td>65</td>\n",
              "      <td>124</td>\n",
              "    </tr>\n",
              "  </tbody>\n",
              "</table>\n",
              "<p>10 rows × 785 columns</p>\n",
              "</div>"
            ],
            "text/plain": [
              "   label  pixel1  pixel2  pixel3  pixel4  pixel5  pixel6  pixel7  pixel8  \\\n",
              "0      6     149     149     150     150     150     151     151     150   \n",
              "1      5     126     128     131     132     133     134     135     135   \n",
              "2     10      85      88      92      96     105     123     135     143   \n",
              "3      0     203     205     207     206     207     209     210     209   \n",
              "4      3     188     191     193     195     199     201     202     203   \n",
              "5     21      72      79      87     101     115     124     131     135   \n",
              "6     10      93     100     112     118     123     127     131     133   \n",
              "7     14     177     177     177     177     177     178     179     179   \n",
              "8      3     191     194     196     198     201     203     204     205   \n",
              "9      7     171     172     172     173     173     173     173     173   \n",
              "\n",
              "   pixel9  ...  pixel775  pixel776  pixel777  pixel778  pixel779  pixel780  \\\n",
              "0     151  ...       138       148       127        89        82        96   \n",
              "1     136  ...        47       104       194       183       186       184   \n",
              "2     147  ...        68       166       242       227       230       227   \n",
              "3     210  ...       154       248       247       248       253       236   \n",
              "4     203  ...        26        40        64        48        29        46   \n",
              "5     139  ...       187       189       192       193       194       194   \n",
              "6     136  ...       173       175       177       178       180       180   \n",
              "7     178  ...       232       223       224       224       223       221   \n",
              "8     205  ...        43        57        78        64        47        62   \n",
              "9     172  ...       199       199       198       196       195       194   \n",
              "\n",
              "   pixel781  pixel782  pixel783  pixel784  \n",
              "0       106       112       120       107  \n",
              "1       184       184       182       180  \n",
              "2       226       225       224       222  \n",
              "3       230       240       253       255  \n",
              "4        49        46        46        53  \n",
              "5       194       195       195       194  \n",
              "6       181       181       181       183  \n",
              "7       221       221       220       219  \n",
              "8        65        62        62        68  \n",
              "9       183        85        65       124  \n",
              "\n",
              "[10 rows x 785 columns]"
            ]
          },
          "execution_count": 4,
          "metadata": {},
          "output_type": "execute_result"
        }
      ],
      "source": [
        "test.head(10)"
      ]
    },
    {
      "cell_type": "markdown",
      "metadata": {
        "id": "6ufx31H9GhzH"
      },
      "source": [
        "                            # SUPPORT VECTOR MACHINE OvR\n",
        "\n",
        "First I start with Support Vector Machine algorithm, and since this is a multiclass problem, I chose one vs rest decision function. So, firstly I use all the training data to estimate the parameters for our SVM model and afterwards validate it with the test dataset. The more data we use the more accurate our model will become. In this case, our classifier manages to predict the test images with 84% accuracy."
      ]
    },
    {
      "cell_type": "code",
      "execution_count": null,
      "metadata": {
        "id": "UjRHbBnpGhzI",
        "outputId": "faa0900d-593f-4324-8763-0700b61a7f23"
      },
      "outputs": [
        {
          "name": "stdout",
          "output_type": "stream",
          "text": [
            "[[331   0   0   0   0   0   0   0   0   0   0   0   0   0   0   0   0   0\n",
            "    0   0   0   0   0   0]\n",
            " [  0 426   0   0   0   0   0   0   0   6   0   0   0   0   0   0   0   0\n",
            "    0   0   0   0   0   0]\n",
            " [  0   0 308   0   0   2   0   0   0   0   0   0   0   0   0   0   0   0\n",
            "    0   0   0   0   0   0]\n",
            " [  0   0   0 244   0   0   0   0   0   0   0   0   0   0   0   0   0   0\n",
            "    0   0   0   0   1   0]\n",
            " [  0   0   0   0 495   0   0   0   0   0   0   0   0   0   0   0   0   3\n",
            "    0   0   0   0   0   0]\n",
            " [  0   0  20   0   0 206   0   0   0   0  21   0   0   0   0   0   0   0\n",
            "    0   0   0   0   0   0]\n",
            " [  0   0   0   0   0   0 322   7   0   0   0   0   0   0   0   0   0   0\n",
            "   19   0   0   0   0   0]\n",
            " [  0   0   0   0   0   0  20 412   0   0   0   0   0   0   0   0   0   0\n",
            "    1   3   0   0   0   0]\n",
            " [  0   0   0   0   0   0   0   0 260   0   0   3   0   0   0   0   0   0\n",
            "    2   0   0   0   0  23]\n",
            " [  0   0   0   0   0   0   0   0  21 194   0   0   0   0   0   0  47   0\n",
            "    0  26   0  23   0  20]\n",
            " [  0   0   0   0   0   0   0   0   0   0 209   0   0   0   0   0   0   0\n",
            "    0   0   0   0   0   0]\n",
            " [  1   0   0   0   8   0   0   0   0   0   0 294  21   0   0   0   0  70\n",
            "    0   0   0   0   0   0]\n",
            " [ 22   0   6  10   0   5   0   0   0   0   0  40 198   2   0   0   0   0\n",
            "    8   0   0   0   0   0]\n",
            " [  0   0  18   0   0  21   4   0   0   0   0   0   0 203   0   0   0   0\n",
            "    0   0   0   0   0   0]\n",
            " [  0   0   0   0   0   0   0   0   0   0   0   0   0   0 347   0   0   0\n",
            "    0   0   0   0   0   0]\n",
            " [  0   0   0   0   0   0   0   0   0   0   0   2   0   0   0 162   0   0\n",
            "    0   0   0   0   0   0]\n",
            " [  0   0   0   0   0   0   0   0   0   0   0   0   0   0   0   0  78   0\n",
            "    0  45  21   0   0   0]\n",
            " [  0   0   0   0  21   0   0   0  25   0   0   7   0   0   0   0   0 193\n",
            "    0   0   0   0   0   0]\n",
            " [  0   0   0  12   0   6   0   0   0   0  10   0   0   0   0   0   3   0\n",
            "  173   0   0   0  44   0]\n",
            " [  0   0   0   0   0   0   0   0   0  44   0   0   0   0   0   0  43   0\n",
            "    0 167   8   4   0   0]\n",
            " [  0   0   0   0   0  20   0   0   0   1   0   0   0   0   0   0  40   0\n",
            "    0  33 203  49   0   0]\n",
            " [  0   0   0   0   0   0   0   0   0   0   0   0   0   0   0   0  29   0\n",
            "    0  20   0 157   0   0]\n",
            " [  0   0   0   0   0   5   0   0   0   0   0   0   0   0   0   0   0   4\n",
            "   13   0   0  41 204   0]\n",
            " [  0   0   0   0   0   0   0   0  18   0   0   0   0   0   0   0  41   2\n",
            "    0   0  19   0   0 252]]\n",
            "0.8418851087562744\n",
            "0.8418851087562744\n"
          ]
        }
      ],
      "source": [
        "import pandas as pd\n",
        "import numpy as np\n",
        "import matplotlib.pyplot as plt\n",
        "from sklearn.preprocessing import LabelEncoder\n",
        "from sklearn.metrics import confusion_matrix, f1_score, accuracy_score\n",
        "\n",
        "df = pd.read_csv('/Users/fidanqurbanova/Downloads/archive/sign_mnist_train.csv')\n",
        "df_test = pd.read_csv('/Users/fidanqurbanova/Downloads/archive/sign_mnist_test.csv')\n",
        "\n",
        "x_train = df.iloc[0:27455, 1:785].values\n",
        "y_train = df.iloc[0:27455, 0].values\n",
        "\n",
        "x_test = df_test.iloc[0:7172, 1:785].values\n",
        "y_test = df_test.iloc[0:7172,0].values\n",
        "\n",
        "label_enc = LabelEncoder()\n",
        "y_train = label_enc.fit_transform(y_train)\n",
        "y_test = label_enc.fit_transform(y_test)\n",
        "\n",
        "from sklearn.svm import SVC\n",
        "\n",
        "classifier = SVC(decision_function_shape='ovr')\n",
        "\n",
        "classifier.fit(x_train, y_train)\n",
        "y_pred = classifier.predict(x_test)\n",
        "\n",
        "acc = accuracy_score(y_test,y_pred)\n",
        "f1 = f1_score(y_test,y_pred,average='micro')\n",
        "cm = confusion_matrix(y_test,y_pred)\n",
        "\n",
        "print(cm)\n",
        "print(f1)\n",
        "print(acc)"
      ]
    },
    {
      "cell_type": "markdown",
      "metadata": {
        "id": "nbr14AbXGhzJ"
      },
      "source": [
        "                       # K-NEAREST-NEIGHBOUR\n",
        "\n",
        "Next step is to run KNN, the method considered as an instance based learning or lazy learning. Therefore it does not require as much time as other classification methods to be fitted and to predict. In this case, our KNN classifier has approximately a 60% accuracy. As for the k number of neighbours I chose 165, because that is the closest odd number to the squareroot of the training dataset size."
      ]
    },
    {
      "cell_type": "code",
      "execution_count": null,
      "metadata": {
        "id": "cDKJqV3ZGhzK",
        "outputId": "ec3fb37d-b824-4b10-d2ed-9a729588275f"
      },
      "outputs": [
        {
          "data": {
            "image/png": "[encoded data removed]",
            "text/plain": [
              "<Figure size 432x288 with 1 Axes>"
            ]
          },
          "metadata": {
            "needs_background": "light"
          },
          "output_type": "display_data"
        }
      ],
      "source": [
        "import pandas as pd\n",
        "import numpy as np\n",
        "import matplotlib.pyplot as plt\n",
        "from sklearn.preprocessing import LabelEncoder\n",
        "from sklearn.metrics import confusion_matrix, f1_score, accuracy_score\n",
        "\n",
        "df = pd.read_csv('/Users/fidanqurbanova/Downloads/archive/sign_mnist_train.csv')\n",
        "df_test = pd.read_csv('/Users/fidanqurbanova/Downloads/archive/sign_mnist_test.csv')\n",
        "\n",
        "x_train = df.iloc[0:27455, 1:785].values\n",
        "y_train = df.iloc[0:27455, 0].values\n",
        "\n",
        "pixel_number = np.arange(0,784,1)\n",
        "\n",
        "x_test = df_test.iloc[0:7172, 1:785].values\n",
        "y_test = df_test.iloc[0:7172,0].values\n",
        "\n",
        "plt.scatter(x_train[0],pixel_number, s=0.4, c = 'r')\n",
        "plt.scatter(x_train[1],pixel_number, s=0.4, c = 'b')\n",
        "plt.scatter(x_train[2],pixel_number, s=0.4, c = 'g')\n",
        "plt.scatter(x_train[3],pixel_number, s=0.4, c = 'y')\n",
        "plt.scatter(x_train[4],pixel_number, s=0.4, c = 'm')\n",
        "plt.show()\n",
        "\n",
        "label_enc = LabelEncoder()\n",
        "y_train = label_enc.fit_transform(y_train)\n",
        "y_test = label_enc.fit_transform(y_test)\n",
        "\n",
        "from sklearn.neighbors import KNeighborsClassifier\n",
        "\n",
        "KNN = KNeighborsClassifier(n_neighbors=165)\n",
        "classifier = KNN.fit(x_train,y_train)\n",
        "\n",
        "y_pred = classifier.predict(x_test)\n",
        "acc = accuracy_score(y_test,y_pred)\n",
        "f1 = f1_score(y_test,y_pred,average='micro')\n",
        "cm = confusion_matrix(y_test, y_pred)\n",
        "print(cm)\n",
        "print(f1)\n",
        "print(acc)"
      ]
    },
    {
      "cell_type": "markdown",
      "metadata": {
        "id": "HaIVOjZVGhzK"
      },
      "source": [
        "# Convolutional Neural Network\n",
        "\n",
        "A Convolutional Neural Network is a special type of an Artificial Intelligence implementation which uses a special mathematical matrix manipulation called the convolution operation to process data from the images.\n",
        "\n",
        "A convolution does this by multiplying two matrices and yielding a third, smaller matrix.\n",
        "The Network takes an input image, and uses a filter (or kernel) to create a feature map describing the image.\n",
        "In the convolution operation, we take a filter (usually 2x2 or 3x3 matrix ) and slide it over the image matrix. The coresponding numbers in both matrices are multiplied and and added to yield a single number describing that input space. This process is repeated all over the image.This working can be seen in the following figure![Screenshot%202022-01-13%20at%2021.09.17.png](attachment:Screenshot%202022-01-13%20at%2021.09.17.png)"
      ]
    },
    {
      "cell_type": "markdown",
      "metadata": {
        "id": "wBKWAPcEGhzK"
      },
      "source": [
        "               # Loading dataset and Libraries"
      ]
    },
    {
      "cell_type": "code",
      "execution_count": null,
      "metadata": {
        "id": "Gs-MBKAkGhzL"
      },
      "outputs": [],
      "source": [
        "import tensorflow as tf\n",
        "from tensorflow import keras"
      ]
    },
    {
      "cell_type": "code",
      "execution_count": null,
      "metadata": {
        "id": "ZUjQc27nGhzL"
      },
      "outputs": [],
      "source": [
        "from keras.optimizers import adam_v2\n",
        "opt = adam_v2.Adam"
      ]
    },
    {
      "cell_type": "code",
      "execution_count": null,
      "metadata": {
        "id": "MN2d7_mvGhzL"
      },
      "outputs": [],
      "source": [
        "import numpy as np\n",
        "from __future__ import absolute_import\n",
        "from tensorflow.keras import layers\n",
        "import numpy as np # linear algebra\n",
        "import pandas as pd # data processing, CSV file I/O (e.g. pd.read_csv)\n",
        "import seaborn as sns\n",
        "import matplotlib.pyplot as plt\n",
        "\n",
        "from sklearn.metrics import confusion_matrix\n",
        "import itertools\n",
        "\n",
        "from keras.utils.np_utils import to_categorical # convert to one-hot-encoding\n",
        "from keras.models import Sequential\n",
        "from keras.layers import Dense, Dropout, Flatten, Conv2D, MaxPool2D\n",
        "from keras.optimizers import rmsprop_v2\n",
        "from keras.preprocessing.image import ImageDataGenerator\n",
        "from keras.callbacks import ReduceLROnPlateau"
      ]
    },
    {
      "cell_type": "code",
      "execution_count": null,
      "metadata": {
        "id": "GCXoMMwHGhzL",
        "outputId": "96f0a3f2-f398-4a85-866f-6ab1f1404a34"
      },
      "outputs": [
        {
          "name": "stdout",
          "output_type": "stream",
          "text": [
            "/Users/fidanqurbanova/Downloads/archive/american_sign_language.PNG\n",
            "/Users/fidanqurbanova/Downloads/archive/sign_mnist_test.csv\n",
            "/Users/fidanqurbanova/Downloads/archive/sign_mnist_train.csv\n",
            "/Users/fidanqurbanova/Downloads/archive/amer_sign3.png\n",
            "/Users/fidanqurbanova/Downloads/archive/amer_sign2.png\n",
            "/Users/fidanqurbanova/Downloads/archive/sign_mnist_train/sign_mnist_train.csv\n",
            "/Users/fidanqurbanova/Downloads/archive/sign_mnist_test/sign_mnist_test.csv\n"
          ]
        }
      ],
      "source": [
        "import os\n",
        "for dirname, _, filenames in os.walk('/Users/fidanqurbanova/Downloads/archive/'):\n",
        "    for filename in filenames:\n",
        "        print(os.path.join(dirname, filename))"
      ]
    },
    {
      "cell_type": "code",
      "execution_count": null,
      "metadata": {
        "id": "-lDtlRbCGhzM",
        "outputId": "b215ebdb-a782-4100-f807-7ff29392706c"
      },
      "outputs": [
        {
          "name": "stdout",
          "output_type": "stream",
          "text": [
            "(27455, 785)\n"
          ]
        },
        {
          "data": {
            "text/html": [
              "<div>\n",
              "<style scoped>\n",
              "    .dataframe tbody tr th:only-of-type {\n",
              "        vertical-align: middle;\n",
              "    }\n",
              "\n",
              "    .dataframe tbody tr th {\n",
              "        vertical-align: top;\n",
              "    }\n",
              "\n",
              "    .dataframe thead th {\n",
              "        text-align: right;\n",
              "    }\n",
              "</style>\n",
              "<table border=\"1\" class=\"dataframe\">\n",
              "  <thead>\n",
              "    <tr style=\"text-align: right;\">\n",
              "      <th></th>\n",
              "      <th>label</th>\n",
              "      <th>pixel1</th>\n",
              "      <th>pixel2</th>\n",
              "      <th>pixel3</th>\n",
              "      <th>pixel4</th>\n",
              "      <th>pixel5</th>\n",
              "      <th>pixel6</th>\n",
              "      <th>pixel7</th>\n",
              "      <th>pixel8</th>\n",
              "      <th>pixel9</th>\n",
              "      <th>...</th>\n",
              "      <th>pixel775</th>\n",
              "      <th>pixel776</th>\n",
              "      <th>pixel777</th>\n",
              "      <th>pixel778</th>\n",
              "      <th>pixel779</th>\n",
              "      <th>pixel780</th>\n",
              "      <th>pixel781</th>\n",
              "      <th>pixel782</th>\n",
              "      <th>pixel783</th>\n",
              "      <th>pixel784</th>\n",
              "    </tr>\n",
              "  </thead>\n",
              "  <tbody>\n",
              "    <tr>\n",
              "      <th>0</th>\n",
              "      <td>3</td>\n",
              "      <td>107</td>\n",
              "      <td>118</td>\n",
              "      <td>127</td>\n",
              "      <td>134</td>\n",
              "      <td>139</td>\n",
              "      <td>143</td>\n",
              "      <td>146</td>\n",
              "      <td>150</td>\n",
              "      <td>153</td>\n",
              "      <td>...</td>\n",
              "      <td>207</td>\n",
              "      <td>207</td>\n",
              "      <td>207</td>\n",
              "      <td>207</td>\n",
              "      <td>206</td>\n",
              "      <td>206</td>\n",
              "      <td>206</td>\n",
              "      <td>204</td>\n",
              "      <td>203</td>\n",
              "      <td>202</td>\n",
              "    </tr>\n",
              "    <tr>\n",
              "      <th>1</th>\n",
              "      <td>6</td>\n",
              "      <td>155</td>\n",
              "      <td>157</td>\n",
              "      <td>156</td>\n",
              "      <td>156</td>\n",
              "      <td>156</td>\n",
              "      <td>157</td>\n",
              "      <td>156</td>\n",
              "      <td>158</td>\n",
              "      <td>158</td>\n",
              "      <td>...</td>\n",
              "      <td>69</td>\n",
              "      <td>149</td>\n",
              "      <td>128</td>\n",
              "      <td>87</td>\n",
              "      <td>94</td>\n",
              "      <td>163</td>\n",
              "      <td>175</td>\n",
              "      <td>103</td>\n",
              "      <td>135</td>\n",
              "      <td>149</td>\n",
              "    </tr>\n",
              "    <tr>\n",
              "      <th>2</th>\n",
              "      <td>2</td>\n",
              "      <td>187</td>\n",
              "      <td>188</td>\n",
              "      <td>188</td>\n",
              "      <td>187</td>\n",
              "      <td>187</td>\n",
              "      <td>186</td>\n",
              "      <td>187</td>\n",
              "      <td>188</td>\n",
              "      <td>187</td>\n",
              "      <td>...</td>\n",
              "      <td>202</td>\n",
              "      <td>201</td>\n",
              "      <td>200</td>\n",
              "      <td>199</td>\n",
              "      <td>198</td>\n",
              "      <td>199</td>\n",
              "      <td>198</td>\n",
              "      <td>195</td>\n",
              "      <td>194</td>\n",
              "      <td>195</td>\n",
              "    </tr>\n",
              "    <tr>\n",
              "      <th>3</th>\n",
              "      <td>2</td>\n",
              "      <td>211</td>\n",
              "      <td>211</td>\n",
              "      <td>212</td>\n",
              "      <td>212</td>\n",
              "      <td>211</td>\n",
              "      <td>210</td>\n",
              "      <td>211</td>\n",
              "      <td>210</td>\n",
              "      <td>210</td>\n",
              "      <td>...</td>\n",
              "      <td>235</td>\n",
              "      <td>234</td>\n",
              "      <td>233</td>\n",
              "      <td>231</td>\n",
              "      <td>230</td>\n",
              "      <td>226</td>\n",
              "      <td>225</td>\n",
              "      <td>222</td>\n",
              "      <td>229</td>\n",
              "      <td>163</td>\n",
              "    </tr>\n",
              "    <tr>\n",
              "      <th>4</th>\n",
              "      <td>13</td>\n",
              "      <td>164</td>\n",
              "      <td>167</td>\n",
              "      <td>170</td>\n",
              "      <td>172</td>\n",
              "      <td>176</td>\n",
              "      <td>179</td>\n",
              "      <td>180</td>\n",
              "      <td>184</td>\n",
              "      <td>185</td>\n",
              "      <td>...</td>\n",
              "      <td>92</td>\n",
              "      <td>105</td>\n",
              "      <td>105</td>\n",
              "      <td>108</td>\n",
              "      <td>133</td>\n",
              "      <td>163</td>\n",
              "      <td>157</td>\n",
              "      <td>163</td>\n",
              "      <td>164</td>\n",
              "      <td>179</td>\n",
              "    </tr>\n",
              "  </tbody>\n",
              "</table>\n",
              "<p>5 rows × 785 columns</p>\n",
              "</div>"
            ],
            "text/plain": [
              "   label  pixel1  pixel2  pixel3  pixel4  pixel5  pixel6  pixel7  pixel8  \\\n",
              "0      3     107     118     127     134     139     143     146     150   \n",
              "1      6     155     157     156     156     156     157     156     158   \n",
              "2      2     187     188     188     187     187     186     187     188   \n",
              "3      2     211     211     212     212     211     210     211     210   \n",
              "4     13     164     167     170     172     176     179     180     184   \n",
              "\n",
              "   pixel9  ...  pixel775  pixel776  pixel777  pixel778  pixel779  pixel780  \\\n",
              "0     153  ...       207       207       207       207       206       206   \n",
              "1     158  ...        69       149       128        87        94       163   \n",
              "2     187  ...       202       201       200       199       198       199   \n",
              "3     210  ...       235       234       233       231       230       226   \n",
              "4     185  ...        92       105       105       108       133       163   \n",
              "\n",
              "   pixel781  pixel782  pixel783  pixel784  \n",
              "0       206       204       203       202  \n",
              "1       175       103       135       149  \n",
              "2       198       195       194       195  \n",
              "3       225       222       229       163  \n",
              "4       157       163       164       179  \n",
              "\n",
              "[5 rows x 785 columns]"
            ]
          },
          "execution_count": 14,
          "metadata": {},
          "output_type": "execute_result"
        }
      ],
      "source": [
        "train = pd.read_csv('/Users/fidanqurbanova/Downloads/archive/sign_mnist_train.csv')\n",
        "print(train.shape)\n",
        "train.head()"
      ]
    },
    {
      "cell_type": "code",
      "execution_count": null,
      "metadata": {
        "id": "RpL63j1pGhzM",
        "outputId": "a9c32bd5-94aa-45c7-ef5a-e828a527486b"
      },
      "outputs": [
        {
          "name": "stdout",
          "output_type": "stream",
          "text": [
            "(27455, 785)\n"
          ]
        },
        {
          "data": {
            "text/html": [
              "<div>\n",
              "<style scoped>\n",
              "    .dataframe tbody tr th:only-of-type {\n",
              "        vertical-align: middle;\n",
              "    }\n",
              "\n",
              "    .dataframe tbody tr th {\n",
              "        vertical-align: top;\n",
              "    }\n",
              "\n",
              "    .dataframe thead th {\n",
              "        text-align: right;\n",
              "    }\n",
              "</style>\n",
              "<table border=\"1\" class=\"dataframe\">\n",
              "  <thead>\n",
              "    <tr style=\"text-align: right;\">\n",
              "      <th></th>\n",
              "      <th>label</th>\n",
              "      <th>pixel1</th>\n",
              "      <th>pixel2</th>\n",
              "      <th>pixel3</th>\n",
              "      <th>pixel4</th>\n",
              "      <th>pixel5</th>\n",
              "      <th>pixel6</th>\n",
              "      <th>pixel7</th>\n",
              "      <th>pixel8</th>\n",
              "      <th>pixel9</th>\n",
              "      <th>...</th>\n",
              "      <th>pixel775</th>\n",
              "      <th>pixel776</th>\n",
              "      <th>pixel777</th>\n",
              "      <th>pixel778</th>\n",
              "      <th>pixel779</th>\n",
              "      <th>pixel780</th>\n",
              "      <th>pixel781</th>\n",
              "      <th>pixel782</th>\n",
              "      <th>pixel783</th>\n",
              "      <th>pixel784</th>\n",
              "    </tr>\n",
              "  </thead>\n",
              "  <tbody>\n",
              "    <tr>\n",
              "      <th>0</th>\n",
              "      <td>3</td>\n",
              "      <td>107</td>\n",
              "      <td>118</td>\n",
              "      <td>127</td>\n",
              "      <td>134</td>\n",
              "      <td>139</td>\n",
              "      <td>143</td>\n",
              "      <td>146</td>\n",
              "      <td>150</td>\n",
              "      <td>153</td>\n",
              "      <td>...</td>\n",
              "      <td>207</td>\n",
              "      <td>207</td>\n",
              "      <td>207</td>\n",
              "      <td>207</td>\n",
              "      <td>206</td>\n",
              "      <td>206</td>\n",
              "      <td>206</td>\n",
              "      <td>204</td>\n",
              "      <td>203</td>\n",
              "      <td>202</td>\n",
              "    </tr>\n",
              "    <tr>\n",
              "      <th>1</th>\n",
              "      <td>6</td>\n",
              "      <td>155</td>\n",
              "      <td>157</td>\n",
              "      <td>156</td>\n",
              "      <td>156</td>\n",
              "      <td>156</td>\n",
              "      <td>157</td>\n",
              "      <td>156</td>\n",
              "      <td>158</td>\n",
              "      <td>158</td>\n",
              "      <td>...</td>\n",
              "      <td>69</td>\n",
              "      <td>149</td>\n",
              "      <td>128</td>\n",
              "      <td>87</td>\n",
              "      <td>94</td>\n",
              "      <td>163</td>\n",
              "      <td>175</td>\n",
              "      <td>103</td>\n",
              "      <td>135</td>\n",
              "      <td>149</td>\n",
              "    </tr>\n",
              "    <tr>\n",
              "      <th>2</th>\n",
              "      <td>2</td>\n",
              "      <td>187</td>\n",
              "      <td>188</td>\n",
              "      <td>188</td>\n",
              "      <td>187</td>\n",
              "      <td>187</td>\n",
              "      <td>186</td>\n",
              "      <td>187</td>\n",
              "      <td>188</td>\n",
              "      <td>187</td>\n",
              "      <td>...</td>\n",
              "      <td>202</td>\n",
              "      <td>201</td>\n",
              "      <td>200</td>\n",
              "      <td>199</td>\n",
              "      <td>198</td>\n",
              "      <td>199</td>\n",
              "      <td>198</td>\n",
              "      <td>195</td>\n",
              "      <td>194</td>\n",
              "      <td>195</td>\n",
              "    </tr>\n",
              "    <tr>\n",
              "      <th>3</th>\n",
              "      <td>2</td>\n",
              "      <td>211</td>\n",
              "      <td>211</td>\n",
              "      <td>212</td>\n",
              "      <td>212</td>\n",
              "      <td>211</td>\n",
              "      <td>210</td>\n",
              "      <td>211</td>\n",
              "      <td>210</td>\n",
              "      <td>210</td>\n",
              "      <td>...</td>\n",
              "      <td>235</td>\n",
              "      <td>234</td>\n",
              "      <td>233</td>\n",
              "      <td>231</td>\n",
              "      <td>230</td>\n",
              "      <td>226</td>\n",
              "      <td>225</td>\n",
              "      <td>222</td>\n",
              "      <td>229</td>\n",
              "      <td>163</td>\n",
              "    </tr>\n",
              "    <tr>\n",
              "      <th>4</th>\n",
              "      <td>13</td>\n",
              "      <td>164</td>\n",
              "      <td>167</td>\n",
              "      <td>170</td>\n",
              "      <td>172</td>\n",
              "      <td>176</td>\n",
              "      <td>179</td>\n",
              "      <td>180</td>\n",
              "      <td>184</td>\n",
              "      <td>185</td>\n",
              "      <td>...</td>\n",
              "      <td>92</td>\n",
              "      <td>105</td>\n",
              "      <td>105</td>\n",
              "      <td>108</td>\n",
              "      <td>133</td>\n",
              "      <td>163</td>\n",
              "      <td>157</td>\n",
              "      <td>163</td>\n",
              "      <td>164</td>\n",
              "      <td>179</td>\n",
              "    </tr>\n",
              "  </tbody>\n",
              "</table>\n",
              "<p>5 rows × 785 columns</p>\n",
              "</div>"
            ],
            "text/plain": [
              "   label  pixel1  pixel2  pixel3  pixel4  pixel5  pixel6  pixel7  pixel8  \\\n",
              "0      3     107     118     127     134     139     143     146     150   \n",
              "1      6     155     157     156     156     156     157     156     158   \n",
              "2      2     187     188     188     187     187     186     187     188   \n",
              "3      2     211     211     212     212     211     210     211     210   \n",
              "4     13     164     167     170     172     176     179     180     184   \n",
              "\n",
              "   pixel9  ...  pixel775  pixel776  pixel777  pixel778  pixel779  pixel780  \\\n",
              "0     153  ...       207       207       207       207       206       206   \n",
              "1     158  ...        69       149       128        87        94       163   \n",
              "2     187  ...       202       201       200       199       198       199   \n",
              "3     210  ...       235       234       233       231       230       226   \n",
              "4     185  ...        92       105       105       108       133       163   \n",
              "\n",
              "   pixel781  pixel782  pixel783  pixel784  \n",
              "0       206       204       203       202  \n",
              "1       175       103       135       149  \n",
              "2       198       195       194       195  \n",
              "3       225       222       229       163  \n",
              "4       157       163       164       179  \n",
              "\n",
              "[5 rows x 785 columns]"
            ]
          },
          "execution_count": 15,
          "metadata": {},
          "output_type": "execute_result"
        }
      ],
      "source": [
        "test = pd.read_csv('/Users/fidanqurbanova/Downloads/archive/sign_mnist_train.csv')\n",
        "print(test.shape)\n",
        "test.head()"
      ]
    },
    {
      "cell_type": "markdown",
      "metadata": {
        "id": "hte9rRLSGhzM"
      },
      "source": [
        "                   # Data Visualization and Preprocessing"
      ]
    },
    {
      "cell_type": "code",
      "execution_count": null,
      "metadata": {
        "id": "UxoOjl-2GhzM"
      },
      "outputs": [],
      "source": [
        "# put labels into y_train variable\n",
        "Y_train = train[\"label\"]\n",
        "# Drop 'label' column\n",
        "X_train = train.drop(labels = [\"label\"],axis = 1) \n",
        "\n",
        "# put labels into y_test variable\n",
        "Y_test = test[\"label\"]\n",
        "# Drop 'label' column\n",
        "X_test = test.drop(labels = [\"label\"],axis = 1) "
      ]
    },
    {
      "cell_type": "code",
      "execution_count": null,
      "metadata": {
        "id": "WncDIlTYGhzN",
        "outputId": "6544ce18-8b97-4c24-d1c2-0520a087208d"
      },
      "outputs": [
        {
          "data": {
            "text/plain": [
              "Text(0.5, 1.0, 'Number of digit classes')"
            ]
          },
          "execution_count": 17,
          "metadata": {},
          "output_type": "execute_result"
        },
        {
          "data": {
            "image/png": "[encoded data removed]",
            "text/plain": [
              "<Figure size 1080x504 with 1 Axes>"
            ]
          },
          "metadata": {
            "needs_background": "light"
          },
          "output_type": "display_data"
        }
      ],
      "source": [
        "# visualize number of digits classes\n",
        "plt.figure(figsize=(15,7))\n",
        "g = sns.countplot(Y_train, palette=\"viridis\")\n",
        "plt.title(\"Number of digit classes\")\n",
        "#Y_train.value_counts()"
      ]
    },
    {
      "cell_type": "code",
      "execution_count": null,
      "metadata": {
        "id": "0iTRkg2iGhzN",
        "outputId": "09ffc6cc-9daa-48e6-ede8-5627a90562ae"
      },
      "outputs": [
        {
          "data": {
            "image/png": "[encoded data removed]",
            "text/plain": [
              "<Figure size 432x288 with 1 Axes>"
            ]
          },
          "metadata": {
            "needs_background": "light"
          },
          "output_type": "display_data"
        }
      ],
      "source": [
        "# plot some samples\n",
        "img = X_train.iloc[10].to_numpy()\n",
        "img = img.reshape((28,28))\n",
        "plt.imshow(img,cmap='gray')\n",
        "plt.title(train.iloc[10,0])\n",
        "plt.axis(\"off\")\n",
        "plt.show()"
      ]
    },
    {
      "cell_type": "code",
      "execution_count": null,
      "metadata": {
        "id": "TVbAwS8HGhzN",
        "outputId": "84240442-5db9-4680-e6cd-2861ace53b5c"
      },
      "outputs": [
        {
          "name": "stdout",
          "output_type": "stream",
          "text": [
            "x_train shape:  (27455, 784)\n",
            "x_test shape:  (27455, 784)\n"
          ]
        }
      ],
      "source": [
        "# Normalize the data\n",
        "X_train = X_train / 255.0\n",
        "X_test = X_test / 255.0\n",
        "print(\"x_train shape: \",X_train.shape)\n",
        "print(\"x_test shape: \",X_test.shape)"
      ]
    },
    {
      "cell_type": "code",
      "execution_count": null,
      "metadata": {
        "id": "9WbayUy3GhzN",
        "outputId": "5e72e36a-3f43-4c50-e280-a6ec692b1f0f"
      },
      "outputs": [
        {
          "name": "stdout",
          "output_type": "stream",
          "text": [
            "x_train shape:  (27455, 28, 28, 1)\n",
            "x_test shape:  (27455, 28, 28, 1)\n"
          ]
        }
      ],
      "source": [
        "# Reshape\n",
        "X_train = X_train.values.reshape(-1,28,28,1)\n",
        "X_test = X_test.values.reshape(-1,28,28,1)\n",
        "print(\"x_train shape: \",X_train.shape)\n",
        "print(\"x_test shape: \",X_test.shape)"
      ]
    },
    {
      "cell_type": "code",
      "execution_count": null,
      "metadata": {
        "id": "kImYzh0MGhzO"
      },
      "outputs": [],
      "source": [
        "# Label Encoding \n",
        "from keras.utils.np_utils import to_categorical # convert to one-hot-encoding\n",
        "Y_train = to_categorical(Y_train, num_classes = 25)\n",
        "Y_test = to_categorical(Y_test, num_classes = 25)"
      ]
    },
    {
      "cell_type": "code",
      "execution_count": null,
      "metadata": {
        "id": "SxzqsOKxGhzO",
        "outputId": "b21d7fe0-9350-49b3-eaa5-641836131fed"
      },
      "outputs": [
        {
          "data": {
            "image/png": "[encoded data removed]",
            "text/plain": [
              "<Figure size 432x288 with 1 Axes>"
            ]
          },
          "metadata": {
            "needs_background": "light"
          },
          "output_type": "display_data"
        }
      ],
      "source": [
        "# Some examples\n",
        "plt.imshow(X_train[2][:,:,0],cmap='gray')\n",
        "plt.show()"
      ]
    },
    {
      "cell_type": "code",
      "execution_count": null,
      "metadata": {
        "id": "T6jwDHxjGhzO"
      },
      "outputs": [],
      "source": [
        "model = Sequential()\n",
        "#\n",
        "model.add(Conv2D(filters = 8, kernel_size = (5,5),padding = 'Same', \n",
        "                 activation ='relu', input_shape = (28,28,1)))\n",
        "model.add(MaxPool2D(pool_size=(2,2)))\n",
        "model.add(Dropout(0.25))\n",
        "\n",
        "#\n",
        "model.add(Conv2D(filters = 16, kernel_size = (3,3),padding = 'Same', \n",
        "                 activation ='relu'))\n",
        "model.add(MaxPool2D(pool_size=(2,2), strides=(2,2)))\n",
        "model.add(Dropout(0.25))\n",
        "\n",
        "# fully connected\n",
        "model.add(Flatten())\n",
        "model.add(Dense(512, activation = \"relu\"))\n",
        "model.add(Dropout(0.5))\n",
        "model.add(Dense(25, activation = \"softmax\"))"
      ]
    },
    {
      "cell_type": "code",
      "execution_count": null,
      "metadata": {
        "id": "xU6fL5ZHGhzO"
      },
      "outputs": [],
      "source": [
        "# Define the optimizer\n",
        "optimizer = adam_v2.Adam(learning_rate=0.001, beta_1=0.9, beta_2=0.999)"
      ]
    },
    {
      "cell_type": "code",
      "execution_count": null,
      "metadata": {
        "id": "otd3VfVZGhzO",
        "outputId": "74485f0f-0d2b-40ca-c678-517fa3cc311d"
      },
      "outputs": [
        {
          "name": "stdout",
          "output_type": "stream",
          "text": [
            "Model: \"sequential\"\n",
            "_________________________________________________________________\n",
            "Layer (type)                 Output Shape              Param #   \n",
            "=================================================================\n",
            "conv2d (Conv2D)              (None, 28, 28, 8)         208       \n",
            "_________________________________________________________________\n",
            "max_pooling2d (MaxPooling2D) (None, 14, 14, 8)         0         \n",
            "_________________________________________________________________\n",
            "dropout (Dropout)            (None, 14, 14, 8)         0         \n",
            "_________________________________________________________________\n",
            "conv2d_1 (Conv2D)            (None, 14, 14, 16)        1168      \n",
            "_________________________________________________________________\n",
            "max_pooling2d_1 (MaxPooling2 (None, 7, 7, 16)          0         \n",
            "_________________________________________________________________\n",
            "dropout_1 (Dropout)          (None, 7, 7, 16)          0         \n",
            "_________________________________________________________________\n",
            "flatten (Flatten)            (None, 784)               0         \n",
            "_________________________________________________________________\n",
            "dense (Dense)                (None, 512)               401920    \n",
            "_________________________________________________________________\n",
            "dropout_2 (Dropout)          (None, 512)               0         \n",
            "_________________________________________________________________\n",
            "dense_1 (Dense)              (None, 25)                12825     \n",
            "=================================================================\n",
            "Total params: 416,121\n",
            "Trainable params: 416,121\n",
            "Non-trainable params: 0\n",
            "_________________________________________________________________\n"
          ]
        }
      ],
      "source": [
        "# Compile the model\n",
        "model.compile(optimizer = optimizer , loss = \"categorical_crossentropy\", metrics=[\"accuracy\"])\n",
        "model.summary()"
      ]
    },
    {
      "cell_type": "code",
      "execution_count": null,
      "metadata": {
        "id": "F58vupaJGhzP"
      },
      "outputs": [],
      "source": [
        "epochs = 30  # for better result increase the epochs\n",
        "batch_size = 128"
      ]
    },
    {
      "cell_type": "markdown",
      "metadata": {
        "id": "2nbX119KGhzP"
      },
      "source": [
        "                       # Data augmentation"
      ]
    },
    {
      "cell_type": "code",
      "execution_count": null,
      "metadata": {
        "id": "RSI2zzJ4GhzP"
      },
      "outputs": [],
      "source": [
        "datagen = ImageDataGenerator(\n",
        "        featurewise_center=False,  # set input mean to 0 over the dataset\n",
        "        samplewise_center=False,  # set each sample mean to 0\n",
        "        featurewise_std_normalization=False,  # divide inputs by std of the dataset\n",
        "        samplewise_std_normalization=False,  # divide each input by its std\n",
        "        zca_whitening=False,  # dimesion reduction\n",
        "        rotation_range=10,  # randomly rotate images in the range 5 degrees\n",
        "        zoom_range = 0.1, # Randomly zoom image 10%\n",
        "        width_shift_range=0.1,  # randomly shift images horizontally 10%\n",
        "        height_shift_range=0.1,  # randomly shift images vertically 10%\n",
        "        horizontal_flip=False,  # randomly flip images\n",
        "        vertical_flip=False)  # randomly flip images\n",
        "\n",
        "datagen.fit(X_train)"
      ]
    },
    {
      "cell_type": "markdown",
      "metadata": {
        "id": "byQiK8cKGhzP"
      },
      "source": [
        "                         # Fitting the model"
      ]
    },
    {
      "cell_type": "code",
      "execution_count": null,
      "metadata": {
        "id": "S5AvscU4GhzQ",
        "outputId": "e0b451ae-a3c8-4729-945e-63fdd9463fdb"
      },
      "outputs": [
        {
          "name": "stderr",
          "output_type": "stream",
          "text": [
            "/Users/fidanqurbanova/.local/lib/python3.8/site-packages/keras/engine/training.py:1915: UserWarning: `Model.fit_generator` is deprecated and will be removed in a future version. Please use `Model.fit`, which supports generators.\n",
            "  warnings.warn('`Model.fit_generator` is deprecated and '\n"
          ]
        },
        {
          "name": "stdout",
          "output_type": "stream",
          "text": [
            "Epoch 1/30\n",
            "214/214 [==============================] - 27s 61ms/step - loss: 3.1003 - accuracy: 0.0845 - val_loss: 1.7040 - val_accuracy: 0.5752\n",
            "Epoch 2/30\n",
            "214/214 [==============================] - 13s 59ms/step - loss: 1.8914 - accuracy: 0.4096 - val_loss: 0.7211 - val_accuracy: 0.8291\n",
            "Epoch 3/30\n",
            "214/214 [==============================] - 14s 65ms/step - loss: 1.2617 - accuracy: 0.5897 - val_loss: 0.4010 - val_accuracy: 0.9147\n",
            "Epoch 4/30\n",
            "214/214 [==============================] - 16s 73ms/step - loss: 0.9638 - accuracy: 0.6775 - val_loss: 0.2877 - val_accuracy: 0.9545\n",
            "Epoch 5/30\n",
            "214/214 [==============================] - 20s 91ms/step - loss: 0.8102 - accuracy: 0.7302 - val_loss: 0.1948 - val_accuracy: 0.9669\n",
            "Epoch 6/30\n",
            "214/214 [==============================] - 21s 97ms/step - loss: 0.6913 - accuracy: 0.7657 - val_loss: 0.1454 - val_accuracy: 0.9812\n",
            "Epoch 7/30\n",
            "214/214 [==============================] - 23s 108ms/step - loss: 0.6031 - accuracy: 0.7945 - val_loss: 0.1244 - val_accuracy: 0.9842\n",
            "Epoch 8/30\n",
            "214/214 [==============================] - 19s 89ms/step - loss: 0.5327 - accuracy: 0.8178 - val_loss: 0.0888 - val_accuracy: 0.9938\n",
            "Epoch 9/30\n",
            "214/214 [==============================] - 20s 93ms/step - loss: 0.4871 - accuracy: 0.8320 - val_loss: 0.0791 - val_accuracy: 0.9911\n",
            "Epoch 10/30\n",
            "214/214 [==============================] - 20s 92ms/step - loss: 0.4488 - accuracy: 0.8465 - val_loss: 0.0573 - val_accuracy: 0.9969\n",
            "Epoch 11/30\n",
            "214/214 [==============================] - 18s 86ms/step - loss: 0.4166 - accuracy: 0.8573 - val_loss: 0.0522 - val_accuracy: 0.9954\n",
            "Epoch 12/30\n",
            "214/214 [==============================] - 21s 97ms/step - loss: 0.3922 - accuracy: 0.8674 - val_loss: 0.0413 - val_accuracy: 0.9981\n",
            "Epoch 13/30\n",
            "214/214 [==============================] - 23s 107ms/step - loss: 0.3612 - accuracy: 0.8781 - val_loss: 0.0313 - val_accuracy: 0.9985\n",
            "Epoch 14/30\n",
            "214/214 [==============================] - 24s 112ms/step - loss: 0.3463 - accuracy: 0.8825 - val_loss: 0.0291 - val_accuracy: 0.9995\n",
            "Epoch 15/30\n",
            "214/214 [==============================] - 24s 111ms/step - loss: 0.3301 - accuracy: 0.8887 - val_loss: 0.0275 - val_accuracy: 0.9992\n",
            "Epoch 16/30\n",
            "214/214 [==============================] - 21s 96ms/step - loss: 0.3134 - accuracy: 0.8933 - val_loss: 0.0214 - val_accuracy: 0.9997\n",
            "Epoch 17/30\n",
            "214/214 [==============================] - 18s 82ms/step - loss: 0.2950 - accuracy: 0.8994 - val_loss: 0.0163 - val_accuracy: 1.0000\n",
            "Epoch 18/30\n",
            "214/214 [==============================] - 17s 81ms/step - loss: 0.2855 - accuracy: 0.9036 - val_loss: 0.0145 - val_accuracy: 0.9999\n",
            "Epoch 19/30\n",
            "214/214 [==============================] - 19s 89ms/step - loss: 0.2886 - accuracy: 0.9007 - val_loss: 0.0123 - val_accuracy: 0.9999\n",
            "Epoch 20/30\n",
            "214/214 [==============================] - 18s 83ms/step - loss: 0.2515 - accuracy: 0.9143 - val_loss: 0.0117 - val_accuracy: 1.0000\n",
            "Epoch 21/30\n",
            "214/214 [==============================] - 18s 86ms/step - loss: 0.2494 - accuracy: 0.9165 - val_loss: 0.0150 - val_accuracy: 0.9997\n",
            "Epoch 22/30\n",
            "214/214 [==============================] - 19s 87ms/step - loss: 0.2505 - accuracy: 0.9154 - val_loss: 0.0094 - val_accuracy: 1.0000\n",
            "Epoch 23/30\n",
            "214/214 [==============================] - 18s 85ms/step - loss: 0.2473 - accuracy: 0.9158 - val_loss: 0.0082 - val_accuracy: 1.0000\n",
            "Epoch 24/30\n",
            "214/214 [==============================] - 18s 85ms/step - loss: 0.2399 - accuracy: 0.9177 - val_loss: 0.0080 - val_accuracy: 1.0000\n",
            "Epoch 25/30\n",
            "214/214 [==============================] - 19s 87ms/step - loss: 0.2268 - accuracy: 0.9230 - val_loss: 0.0071 - val_accuracy: 1.0000\n",
            "Epoch 26/30\n",
            "214/214 [==============================] - 19s 88ms/step - loss: 0.2166 - accuracy: 0.9263 - val_loss: 0.0071 - val_accuracy: 0.9996\n",
            "Epoch 27/30\n",
            "214/214 [==============================] - 18s 84ms/step - loss: 0.2099 - accuracy: 0.9294 - val_loss: 0.0084 - val_accuracy: 1.0000\n",
            "Epoch 28/30\n",
            "214/214 [==============================] - 19s 87ms/step - loss: 0.2082 - accuracy: 0.9296 - val_loss: 0.0057 - val_accuracy: 1.0000\n",
            "Epoch 29/30\n",
            "214/214 [==============================] - 20s 93ms/step - loss: 0.1948 - accuracy: 0.9327 - val_loss: 0.0054 - val_accuracy: 0.9999\n",
            "Epoch 30/30\n",
            "214/214 [==============================] - 26s 122ms/step - loss: 0.1985 - accuracy: 0.9327 - val_loss: 0.0041 - val_accuracy: 1.0000\n"
          ]
        }
      ],
      "source": [
        "history = model.fit_generator(datagen.flow(X_train,Y_train, batch_size=batch_size),\n",
        "                              epochs = epochs, validation_data = (X_test,Y_test),\n",
        "                             steps_per_epoch=X_train.shape[0] // batch_size)"
      ]
    },
    {
      "cell_type": "code",
      "execution_count": null,
      "metadata": {
        "id": "Jy9bnz7sGhzQ",
        "outputId": "7ecf139c-b459-415e-c19f-9d90ea4bb9b1"
      },
      "outputs": [
        {
          "name": "stdout",
          "output_type": "stream",
          "text": [
            "858/858 [==============================] - 5s 5ms/step - loss: 0.0041 - accuracy: 1.0000\n",
            "Accuracy of the model is -  100.0 %\n"
          ]
        }
      ],
      "source": [
        "print(\"Accuracy of the model is - \" , model.evaluate(X_test,Y_test)[1]*100 , \"%\")"
      ]
    },
    {
      "cell_type": "markdown",
      "metadata": {
        "id": "Wd-IRkcJGhzQ"
      },
      "source": [
        "                   # Final Analysis after Training Model "
      ]
    },
    {
      "cell_type": "code",
      "execution_count": null,
      "metadata": {
        "id": "gcEANgP2GhzQ",
        "outputId": "01b41745-35ba-455f-b5f0-fc7fdf032b7e"
      },
      "outputs": [
        {
          "data": {
            "image/png": "[encoded data removed]",
            "text/plain": [
              "<Figure size 432x288 with 1 Axes>"
            ]
          },
          "metadata": {
            "needs_background": "light"
          },
          "output_type": "display_data"
        }
      ],
      "source": [
        "plt.plot(history.history['accuracy'], color='black',)\n",
        "plt.plot(history.history['val_accuracy'], color='red',)\n",
        "plt.title('Training Accuracy vs Validation Accuracy')\n",
        "plt.ylabel('Accuracy')\n",
        "plt.xlabel('Epoch')\n",
        "plt.legend(['Train', 'Validation'], loc='lower right')\n",
        "plt.show()"
      ]
    },
    {
      "cell_type": "code",
      "execution_count": null,
      "metadata": {
        "id": "N7JiRUF7GhzQ",
        "outputId": "d5e9fa03-4df4-460b-c16a-118fe8bd3fca"
      },
      "outputs": [
        {
          "data": {
            "image/png": "[encoded data removed]",
            "text/plain": [
              "<Figure size 432x288 with 1 Axes>"
            ]
          },
          "metadata": {
            "needs_background": "light"
          },
          "output_type": "display_data"
        }
      ],
      "source": [
        "plt.plot(history.history['loss'])\n",
        "plt.plot(history.history['val_loss'])\n",
        "plt.title('Training Loss vs Validation Loss')\n",
        "plt.ylabel('Loss')\n",
        "plt.xlabel('Epoch')\n",
        "plt.legend(['Train', 'Validation'], loc='upper right')\n",
        "plt.show()"
      ]
    },
    {
      "cell_type": "code",
      "execution_count": null,
      "metadata": {
        "id": "MCvS9CWEGhzQ"
      },
      "outputs": [],
      "source": [
        "# Confusion Matrix\n",
        "\n",
        "# Predict the values from the validation dataset\n",
        "Y_pred = model.predict(X_test)\n",
        "# Convert predictions classes to one hot vectors \n",
        "Y_pred_classes = np.argmax(Y_pred,axis = 1) \n",
        "# Convert validation observations to one hot vectors\n",
        "Y_true = np.argmax(Y_test,axis = 1) \n",
        "# compute the confusion matrix\n",
        "confusion_mtx = confusion_matrix(Y_true, Y_pred_classes) \n",
        "confusion_mtx = pd.DataFrame(confusion_mtx , index = [i for i in range(25) if i != 9] , columns = [i for i in range(25) if i != 9])"
      ]
    },
    {
      "cell_type": "code",
      "execution_count": null,
      "metadata": {
        "id": "0pXGyRzCGhzR",
        "outputId": "93f32070-5fc5-4fb2-f1f5-ac25938837ff"
      },
      "outputs": [
        {
          "data": {
            "image/png": "[encoded data removed]",
            "text/plain": [
              "<Figure size 1080x864 with 2 Axes>"
            ]
          },
          "metadata": {
            "needs_background": "light"
          },
          "output_type": "display_data"
        }
      ],
      "source": [
        "# plot the confusion matrix\n",
        "f,ax = plt.subplots(figsize=(15, 12))\n",
        "sns.heatmap(confusion_mtx, annot=True, linewidths=1,cmap=\"Wistia\",linecolor=\"gray\", fmt= '',ax=ax)\n",
        "plt.xlabel(\"Predicted Label\")\n",
        "plt.ylabel(\"True Label\")\n",
        "plt.title(\"Confusion Matrix\")\n",
        "plt.show()"
      ]
    },
    {
      "cell_type": "markdown",
      "metadata": {
        "id": "bZjjAIPQGhzR"
      },
      "source": [
        "# CONCLUSION\n",
        "\n",
        "All in all, as it is observed CNN is much more accurate than than SVM or KNN in predicting images from the given test dataset, but besides jumping to deep learning algorithms, the other algorithms are also needed to be considered, since they are much faster, even though most of the time less accurate."
      ]
    }
  ],
  "metadata": {
    "kernelspec": {
      "display_name": "Python 3",
      "language": "python",
      "name": "python3"
    },
    "language_info": {
      "codemirror_mode": {
        "name": "ipython",
        "version": 3
      },
      "file_extension": ".py",
      "mimetype": "text/x-python",
      "name": "python",
      "nbconvert_exporter": "python",
      "pygments_lexer": "ipython3",
      "version": "3.8.3"
    },
    "colab": {
      "name": "AML_Fidan_Gurbanova.ipynb",
      "provenance": [],
      "include_colab_link": true
    }
  },
  "nbformat": 4,
  "nbformat_minor": 0
}